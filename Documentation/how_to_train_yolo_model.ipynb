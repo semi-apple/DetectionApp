{
 "cells": [
  {
   "cell_type": "markdown",
   "id": "a35358ca",
   "metadata": {},
   "source": [
    "# Environment\n",
    "YOLO can be run oon MacOS and WSL directly, there is no compatibility problems. In order to run on Windows, we need to install some specific libraries.\n",
    "\n",
    "Before that, make sure cuda is installed on computer if using Windows or WSL. Cuda can be installed by the link: https://developer.nvidia.com/cuda-downloads\n",
    "\n",
    "Run the following code to check nvidia version."
   ]
  },
  {
   "cell_type": "code",
   "execution_count": null,
   "id": "7e3e2263",
   "metadata": {
    "vscode": {
     "languageId": "plaintext"
    }
   },
   "outputs": [],
   "source": [
    "nvidia-smi"
   ]
  },
  {
   "cell_type": "markdown",
   "id": "3ecaddd5",
   "metadata": {},
   "source": [
    "## Windows"
   ]
  },
  {
   "cell_type": "markdown",
   "id": "3d49b13c",
   "metadata": {},
   "source": [
    "On Windows, some versions of torch are incompatible with cuda, resulting in the inability to use gpu during the training process."
   ]
  },
  {
   "cell_type": "code",
   "execution_count": null,
   "id": "fdf99d7b",
   "metadata": {
    "vscode": {
     "languageId": "plaintext"
    }
   },
   "outputs": [],
   "source": [
    "pip install ultralytics\n",
    "pip uninstall torch torchvision torchaudio -y\n",
    "pip cache purge\n",
    "pip install torch torchvision torchaudio --extra-index-url https://download.pytorch.org/whl/cu121"
   ]
  },
  {
   "cell_type": "markdown",
   "id": "0f4345f0",
   "metadata": {},
   "source": [
    "Or install the version with CUDA support as per your choice from [here](https://pytorch.org/get-started/locally/)"
   ]
  },
  {
   "cell_type": "markdown",
   "id": "8020d163",
   "metadata": {},
   "source": [
    "## WSL and MacOS"
   ]
  },
  {
   "cell_type": "markdown",
   "id": "2a8f758a",
   "metadata": {},
   "source": [
    "Easy to train the model on WSL and MacOS since there is no incompatible problem. YOLO can be installed by the folloing code."
   ]
  },
  {
   "cell_type": "code",
   "execution_count": null,
   "id": "06ab770e",
   "metadata": {
    "vscode": {
     "languageId": "plaintext"
    }
   },
   "outputs": [],
   "source": [
    "pip install ultralytics"
   ]
  },
  {
   "cell_type": "markdown",
   "id": "5aa7609d",
   "metadata": {},
   "source": [
    "# Training"
   ]
  },
  {
   "cell_type": "markdown",
   "id": "81b7d882",
   "metadata": {},
   "source": [
    "YOLO is easy to train as YOLO using pre-trained model. The architecture of YOLO is set up in advance but still could be changed."
   ]
  },
  {
   "cell_type": "code",
   "execution_count": null,
   "id": "5b84d5a3",
   "metadata": {
    "vscode": {
     "languageId": "plaintext"
    }
   },
   "outputs": [],
   "source": [
    "from ultralytics import YOLO"
   ]
  }
 ],
 "metadata": {
  "kernelspec": {
   "display_name": "Python 3",
   "language": "python",
   "name": "python3"
  },
  "language_info": {
   "codemirror_mode": {
    "name": "ipython",
    "version": 2
   },
   "file_extension": ".py",
   "mimetype": "text/x-python",
   "name": "python",
   "nbconvert_exporter": "python",
   "pygments_lexer": "ipython2",
   "version": "2.7.6"
  }
 },
 "nbformat": 4,
 "nbformat_minor": 5
}
