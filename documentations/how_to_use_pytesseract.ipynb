{
 "cells": [
  {
   "cell_type": "markdown",
   "source": [
    "<span style=\"color: blue\">Note: This notebooks is written on VsCode, the layout on Pycharm and VsCode may be different.</span>"
   ],
   "metadata": {
    "collapsed": false
   },
   "id": "bb1e23feb6addbee"
  },
  {
   "cell_type": "markdown",
   "source": [
    "# How To Use Pytesseract To Detect Lot, Asset and Serial Number"
   ],
   "metadata": {
    "collapsed": false
   },
   "id": "f78c9f34b91f6105"
  },
  {
   "cell_type": "markdown",
   "source": [
    "## Mac and Linux"
   ],
   "metadata": {
    "collapsed": false
   },
   "id": "d8d923317d690fbe"
  },
  {
   "cell_type": "markdown",
   "source": [
    "It is easy to install pytesseract in Mac and Linux environments, just using pip:"
   ],
   "metadata": {
    "collapsed": false
   },
   "id": "5197d3159bc0eb1b"
  },
  {
   "cell_type": "code",
   "execution_count": null,
   "outputs": [],
   "source": [
    "!pip install pytesseract"
   ],
   "metadata": {
    "collapsed": false
   },
   "id": "c3af99fd60a8985d"
  },
  {
   "cell_type": "markdown",
   "source": [
    "## Windows"
   ],
   "metadata": {
    "collapsed": false
   },
   "id": "1aa617d69140362f"
  },
  {
   "cell_type": "markdown",
   "source": [
    "Since our app is using pytesseract to do ocr, and it is not enough to use pip to install pytesseract in Windows since the .exe need to be install in system path. Here is the solution."
   ],
   "metadata": {
    "collapsed": false
   },
   "id": "c313763dfeed05d2"
  },
  {
   "cell_type": "markdown",
   "source": [
    "1. Go to [https://github.com/UB-Mannheim/tesseract/wiki](https://github.com/UB-Mannheim/tesseract/wiki) to download tesseract exe.\n",
    "2. Install tesseract in *C:\\Program Files (x86)\\Tesseract-OCR* or other path.\n",
    "3. In *C:\\Program Files (x86)\\Tesseract-OCR*, you will find a .exe named tesseract.exe, this is what we need to do ocr. Remember the path and back to the project code.\n",
    "4. Remember to run *pip install pytesseract* before you use it.\n",
    "5. Find the place (*interfaces/detection_functions.py* in project) where pytesseract is imported, change variable *pytesseract.pytesseract.tesseract_cmd* to the path (e.g. *pytesseract.pytesseract.tesseract_cmd = r'C:\\Program Files\\Tesseract-OCR\\tesseract.exe'*)."
   ],
   "metadata": {
    "collapsed": false
   },
   "id": "92e7078018c92bf2"
  },
  {
   "cell_type": "code",
   "execution_count": null,
   "outputs": [],
   "source": [],
   "metadata": {
    "collapsed": false
   },
   "id": "ff5ff70c0917dc2b"
  }
 ],
 "metadata": {
  "kernelspec": {
   "display_name": "Python 3",
   "language": "python",
   "name": "python3"
  },
  "language_info": {
   "codemirror_mode": {
    "name": "ipython",
    "version": 2
   },
   "file_extension": ".py",
   "mimetype": "text/x-python",
   "name": "python",
   "nbconvert_exporter": "python",
   "pygments_lexer": "ipython2",
   "version": "2.7.6"
  }
 },
 "nbformat": 4,
 "nbformat_minor": 5
}
