{
 "cells": [
  {
   "cell_type": "markdown",
   "metadata": {},
   "source": [
    "<span style=\"color: yellow\">Note: This notebooks is written on VsCode, the layout on Pycharm and VsCode are different.</span>"
   ]
  },
  {
   "cell_type": "markdown",
   "metadata": {},
   "source": [
    "# How to Analyze Dataset"
   ]
  },
  {
   "cell_type": "markdown",
   "metadata": {},
   "source": [
    "<p style=\"line-height: 150%;\">Most of the information are listed on <i>RoboFlow</i>, however some characters are missing, one of them is size of objects, which is very important for this project. \n",
    "We can analyze the size by <i>cocoeval</i>, a tool to analyze coco dataset (JSON format). By doing so, we need to transfer our dataset from yolo format to coco format, simply select coco format on <i>RoboFlow</i>. </p>\n",
    "\n",
    "<img src=\"images/select_coco_dataset.png\" alt=\"select coco dataset\" title=\"select coco dataset\" style=\"width:600px;\"/>"
   ]
  },
  {
   "cell_type": "markdown",
   "metadata": {},
   "source": []
  }
 ],
 "metadata": {
  "kernelspec": {
   "display_name": "base",
   "language": "python",
   "name": "python3"
  },
  "language_info": {
   "codemirror_mode": {
    "name": "ipython",
    "version": 3
   },
   "file_extension": ".py",
   "mimetype": "text/x-python",
   "name": "python",
   "nbconvert_exporter": "python",
   "pygments_lexer": "ipython3",
   "version": "3.11.4"
  }
 },
 "nbformat": 4,
 "nbformat_minor": 2
}
